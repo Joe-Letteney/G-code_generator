{
  "nbformat": 4,
  "nbformat_minor": 0,
  "metadata": {
    "colab": {
      "provenance": []
    },
    "kernelspec": {
      "name": "python3",
      "display_name": "Python 3"
    },
    "language_info": {
      "name": "python"
    }
  },
  "cells": [
    {
      "cell_type": "code",
      "execution_count": null,
      "metadata": {
        "colab": {
          "base_uri": "https://localhost:8080/",
          "height": 35
        },
        "id": "2fnGkDBRwg0a",
        "outputId": "7cbaa891-63a7-4263-e9ce-adcd5122044a"
      },
      "outputs": [
        {
          "output_type": "stream",
          "name": "stdout",
          "text": [
            "G-code written to pipetter_output.gcode\n"
          ]
        },
        {
          "output_type": "display_data",
          "data": {
            "text/plain": [
              "<IPython.core.display.Javascript object>"
            ],
            "application/javascript": [
              "\n",
              "    async function download(id, filename, size) {\n",
              "      if (!google.colab.kernel.accessAllowed) {\n",
              "        return;\n",
              "      }\n",
              "      const div = document.createElement('div');\n",
              "      const label = document.createElement('label');\n",
              "      label.textContent = `Downloading \"${filename}\": `;\n",
              "      div.appendChild(label);\n",
              "      const progress = document.createElement('progress');\n",
              "      progress.max = size;\n",
              "      div.appendChild(progress);\n",
              "      document.body.appendChild(div);\n",
              "\n",
              "      const buffers = [];\n",
              "      let downloaded = 0;\n",
              "\n",
              "      const channel = await google.colab.kernel.comms.open(id);\n",
              "      // Send a message to notify the kernel that we're ready.\n",
              "      channel.send({})\n",
              "\n",
              "      for await (const message of channel.messages) {\n",
              "        // Send a message to notify the kernel that we're ready.\n",
              "        channel.send({})\n",
              "        if (message.buffers) {\n",
              "          for (const buffer of message.buffers) {\n",
              "            buffers.push(buffer);\n",
              "            downloaded += buffer.byteLength;\n",
              "            progress.value = downloaded;\n",
              "          }\n",
              "        }\n",
              "      }\n",
              "      const blob = new Blob(buffers, {type: 'application/binary'});\n",
              "      const a = document.createElement('a');\n",
              "      a.href = window.URL.createObjectURL(blob);\n",
              "      a.download = filename;\n",
              "      div.appendChild(a);\n",
              "      a.click();\n",
              "      div.remove();\n",
              "    }\n",
              "  "
            ]
          },
          "metadata": {}
        },
        {
          "output_type": "display_data",
          "data": {
            "text/plain": [
              "<IPython.core.display.Javascript object>"
            ],
            "application/javascript": [
              "download(\"download_973a1f73-de8b-4183-a6d6-fb213487a43d\", \"pipetter_output.gcode\", 5715)"
            ]
          },
          "metadata": {}
        }
      ],
      "source": [
        "# Define parameters\n",
        "cup1x = 0\n",
        "cup1y = 0\n",
        "lowerdist = 10\n",
        "endmove1 = 10\n",
        "endmove2 = 20\n",
        "hole1x = 20\n",
        "hole1y = 20\n",
        "rowcount = 1\n",
        "colcount = 1\n",
        "stepsize = 0.5\n",
        "\n",
        "from google.colab import files\n",
        "\n",
        "def generate_pipetter_gcode(filename, move_speed=1500, lower_speed=500):\n",
        "    commands = [\n",
        "        \"; Start of G-code\",\n",
        "        \"G21 ; Set units to millimeters\",\n",
        "        \"G90 ; Use absolute positioning\",\n",
        "        \"G28 ; Home all axes\",\n",
        "        f\"G1 X0 Y0 F{move_speed} ; Move to start\"\n",
        "    ]\n",
        "\n",
        "    cup_x = cup1x\n",
        "    cup_y = cup1y\n",
        "\n",
        "    for i in range(18):\n",
        "        if i > 1:\n",
        "            cup_y += stepsize\n",
        "\n",
        "        # Move to fluid holder\n",
        "        commands.append(f\"; Pass {i+1}: Move to fluid holder\")\n",
        "        commands.append(f\"G1 X{cup_x} Y{cup_y} F{move_speed}\")\n",
        "        commands.append(f\"G1 Z5 F{lower_speed} ; Approach height\")\n",
        "        commands.append(f\"G1 Z0 F{lower_speed} ; Lower into cup\")\n",
        "        commands.append(f\"; Simulate extract - E moves\")\n",
        "        commands.append(f\"G1 E1{lowerdist} F{lower_speed}\")\n",
        "        commands.append(f\"G1 E2{endmove1} F{lower_speed}\")\n",
        "        commands.append(f\"G1 E20 F{lower_speed}\")\n",
        "        commands.append(f\"G1 E10 F{lower_speed}\")\n",
        "\n",
        "        # Move to dispensing hole\n",
        "        commands.append(f\"; Move to dispensing hole\")\n",
        "        commands.append(f\"G1 X{hole1x} Y{hole1y} F{move_speed}\")\n",
        "        commands.append(f\"G1 Z0 F{lower_speed} ; Lower into hole\")\n",
        "        commands.append(f\"G1 E1{lowerdist} F{lower_speed}\")\n",
        "        commands.append(f\"G1 E2{endmove2} F{lower_speed}\")\n",
        "        commands.append(f\"G1 E20 F{lower_speed}\")\n",
        "        commands.append(f\"G1 E10 F{lower_speed}\")\n",
        "\n",
        "        # Increment X position of cup\n",
        "        cup_x += stepsize\n",
        "\n",
        "    commands.append(\"M84 ; Disable motors\")\n",
        "    commands.append(\"; End of G-code\")\n",
        "\n",
        "    # Write and download the G-code file\n",
        "    with open(filename, 'w') as file:\n",
        "        for cmd in commands:\n",
        "            file.write(cmd + '\\n')\n",
        "\n",
        "    print(f\"G-code written to {filename}\")\n",
        "    files.download(filename)\n",
        "\n",
        "# Run it\n",
        "generate_pipetter_gcode(\"pipetter_output.gcode\")\n",
        "\n"
      ]
    },
    {
      "cell_type": "code",
      "source": [
        "cup1x = 0\n",
        "cup1y = 0\n",
        "lowerdist = 10\n",
        "endmove1 = 10\n",
        "endmove2 = 20\n",
        "hole1x = 20\n",
        "hole1y = 20\n",
        "stepsize = 0.5\n",
        "\n",
        "from google.colab import files\n",
        "\n",
        "def generate_pipetter_gcode(filename, fluid_holders2=None, plate_holes2=None, move_speed=1500, lower_speed=500):\n",
        "    commands = [\n",
        "        \"; Start of G-code\",\n",
        "        \"G21 ; Set units to millimeters\",\n",
        "        \"G90 ; Use absolute positioning\",\n",
        "        \"G28 ; Home all axes\",\n",
        "        f\"G1 X0 Y0  Z0 F{move_speed}\"\n",
        "    ]\n",
        "\n",
        "    global cup1x, cup1y, hole1y, holex1 # ensure the function can use outer variables\n",
        "    for i in range(1,19):\n",
        "        hole1x = 0\n",
        "        if i > 1:\n",
        "            hole1y += stepsize\n",
        "\n",
        "    for i in range(1,21):\n",
        "        commands.append(f\"G1 X{cup1x} Y{cup1x} Z{cup1y} F{move_speed}\")\n",
        "        commands.append(f\"G1 E1{lowerdist} F{lower_speed}\")\n",
        "        commands.append(f\"G1 E2{endmove1} F{lower_speed}\")\n",
        "        commands.append(f\"G1 E20 F{lower_speed}\")\n",
        "        commands.append(f\"G1 E10 F{lower_speed}\")\n",
        "        commands.append(f\"G1 X{hole1x} Y{hole1x} Z{hole1y}\")\n",
        "        commands.append(f\"G1 E1{lowerdist} F{lower_speed}\")\n",
        "        commands.append(f\"G1 E2{endmove2} F{lower_speed}\")\n",
        "        commands.append(f\"G1 E20 F{lower_speed}\")\n",
        "        commands.append(f\"G1 E10 F{lower_speed}\")\n",
        "        hole1x += stepsize\n",
        "\n",
        "    # Write to file and download\n",
        "    with open(filename, 'w') as file:\n",
        "        for cmd in commands:\n",
        "            file.write(cmd + '\\n')\n",
        "\n",
        "    print(f\"G-code written to {filename}\")\n",
        "    files.download(filename)\n",
        "\n",
        "# Run it\n",
        "generate_pipetter_gcode(\"pipetter_output.gcode\")\n"
      ],
      "metadata": {
        "colab": {
          "base_uri": "https://localhost:8080/",
          "height": 35
        },
        "id": "0_sihaiOxC4L",
        "outputId": "a69a3d64-0361-41d6-cd0d-0c52b08c8a52"
      },
      "execution_count": null,
      "outputs": [
        {
          "output_type": "stream",
          "name": "stdout",
          "text": [
            "G-code written to pipetter_output.gcode\n"
          ]
        },
        {
          "output_type": "display_data",
          "data": {
            "text/plain": [
              "<IPython.core.display.Javascript object>"
            ],
            "application/javascript": [
              "\n",
              "    async function download(id, filename, size) {\n",
              "      if (!google.colab.kernel.accessAllowed) {\n",
              "        return;\n",
              "      }\n",
              "      const div = document.createElement('div');\n",
              "      const label = document.createElement('label');\n",
              "      label.textContent = `Downloading \"${filename}\": `;\n",
              "      div.appendChild(label);\n",
              "      const progress = document.createElement('progress');\n",
              "      progress.max = size;\n",
              "      div.appendChild(progress);\n",
              "      document.body.appendChild(div);\n",
              "\n",
              "      const buffers = [];\n",
              "      let downloaded = 0;\n",
              "\n",
              "      const channel = await google.colab.kernel.comms.open(id);\n",
              "      // Send a message to notify the kernel that we're ready.\n",
              "      channel.send({})\n",
              "\n",
              "      for await (const message of channel.messages) {\n",
              "        // Send a message to notify the kernel that we're ready.\n",
              "        channel.send({})\n",
              "        if (message.buffers) {\n",
              "          for (const buffer of message.buffers) {\n",
              "            buffers.push(buffer);\n",
              "            downloaded += buffer.byteLength;\n",
              "            progress.value = downloaded;\n",
              "          }\n",
              "        }\n",
              "      }\n",
              "      const blob = new Blob(buffers, {type: 'application/binary'});\n",
              "      const a = document.createElement('a');\n",
              "      a.href = window.URL.createObjectURL(blob);\n",
              "      a.download = filename;\n",
              "      div.appendChild(a);\n",
              "      a.click();\n",
              "      div.remove();\n",
              "    }\n",
              "  "
            ]
          },
          "metadata": {}
        },
        {
          "output_type": "display_data",
          "data": {
            "text/plain": [
              "<IPython.core.display.Javascript object>"
            ],
            "application/javascript": [
              "download(\"download_fe7fd8ed-c406-40ad-8329-ef6a6a80924a\", \"pipetter_output.gcode\", 2855)"
            ]
          },
          "metadata": {}
        }
      ]
    },
    {
      "cell_type": "code",
      "source": [
        "cup1x = 0\n",
        "cup1y = 0\n",
        "lowerdist = 10\n",
        "endmove1 = 10\n",
        "endmove2 = 20\n",
        "hole1x = 20\n",
        "hole1y = 20\n",
        "stepsize = 0.5\n",
        "\n",
        "def generate_pipetter_gcode(filename, fluid_holders2=None, plate_holes2=None, move_speed=1500, lower_speed=500):\n",
        "    commands = [\n",
        "\n",
        "        f\"G1 X0 Y0 Z0 F{move_speed}\"\n",
        "    ]\n",
        "\n",
        "    global cup1x, cup1y, hole1y, hole1x  # fixed typo here\n",
        "\n",
        "    for i in range(1, 19):  # starts from 1 to 18 inclusive\n",
        "        hole1x = 20\n",
        "        if i > 1:\n",
        "            hole1y += stepsize\n",
        "\n",
        "        for i in range(1, 21):  # starts from 1 to 20 inclusive\n",
        "            commands.append(f\"G1 X{cup1x} Y{cup1x} Z{cup1y} F{move_speed}\")\n",
        "            commands.append(f\"G1 E1{lowerdist} F{lower_speed}\")\n",
        "            commands.append(f\"G1 E2{endmove1} F{lower_speed}\")\n",
        "            commands.append(f\"G1 E20 F{lower_speed}\")\n",
        "            commands.append(f\"G1 E10 F{lower_speed}\")\n",
        "            commands.append(f\"G1 X{hole1x} Y{hole1x} Z{hole1y}\")\n",
        "            commands.append(f\"G1 E1{lowerdist} F{lower_speed}\")\n",
        "            commands.append(f\"G1 E2{endmove2} F{lower_speed}\")\n",
        "            commands.append(f\"G1 E20 F{lower_speed}\")\n",
        "            commands.append(f\"G1 E10 F{lower_speed}\")\n",
        "            hole1x += stepsize\n",
        "\n",
        "    # Write to file only (no download)\n",
        "    with open(filename, 'w') as file:\n",
        "        for cmd in commands:\n",
        "            file.write(cmd + '\\n')\n",
        "\n",
        "    print(f\"G-code written to {filename} in current Colab directory.\")\n",
        "\n",
        "# Run it\n",
        "generate_pipetter_gcode(\"pipetter_output.gcode\")\n"
      ],
      "metadata": {
        "colab": {
          "base_uri": "https://localhost:8080/"
        },
        "id": "Y6LAkSePEezW",
        "outputId": "c8de882c-4773-4fcd-bd81-a0889b4f1163"
      },
      "execution_count": null,
      "outputs": [
        {
          "output_type": "stream",
          "name": "stdout",
          "text": [
            "G-code written to pipetter_output.gcode in current Colab directory.\n"
          ]
        }
      ]
    },
    {
      "cell_type": "code",
      "source": [
        "cup1x = 0\n",
        "cup1y = 0\n",
        "lowerdist = 10\n",
        "endmove1 = 10\n",
        "endmove2 = 20\n",
        "stepsize = 0.5\n",
        "\n",
        "def generate_pipetter_gcode(filename, move_speed=1500, lower_speed=500):\n",
        "    commands = [\n",
        "        \"; Start of G-code\",\n",
        "        \"G28 ; Home all axes\",\n",
        "        f\"G1 X0 Y0 Z0 F{move_speed}\"\n",
        "    ]\n",
        "\n",
        "    for row in range(1, 19):  # 18 rows\n",
        "        cup1y = stepsize * (row - 1)\n",
        "        hole1y = cup1y\n",
        "        cup1x = 0\n",
        "        hole1x = 0\n",
        "\n",
        "        for col in range(1, 21):  # 20 columns\n",
        "            # Move to fluid cup\n",
        "            commands.append(f\"G1 X{cup1x:.2f} Y{cup1y:.2f} Z0.0 F{move_speed}\")\n",
        "            commands.append(f\"G1 E1{lowerdist} F{lower_speed}\")\n",
        "            commands.append(f\"G1 E2{endmove1} F{lower_speed}\")\n",
        "            commands.append(f\"G1 E20 F{lower_speed}\")\n",
        "            commands.append(f\"G1 E10 F{lower_speed}\")\n",
        "\n",
        "            # Move to plate hole\n",
        "            commands.append(f\"G1 X{hole1x:.2f} Y{hole1y:.2f} Z0.0 F{move_speed}\")\n",
        "            commands.append(f\"G1 E1{lowerdist} F{lower_speed}\")\n",
        "            commands.append(f\"G1 E2{endmove2} F{lower_speed}\")\n",
        "            commands.append(f\"G1 E20 F{lower_speed}\")\n",
        "            commands.append(f\"G1 E10 F{lower_speed}\")\n",
        "\n",
        "            cup1x += stepsize\n",
        "            hole1x += stepsize\n",
        "\n",
        "    with open(filename, 'w') as file:\n",
        "        for cmd in commands:\n",
        "            file.write(cmd + '\\n')\n",
        "\n",
        "    print(f\"G-code written to {filename} in current Colab directory.\")\n",
        "\n",
        "# Run it\n",
        "generate_pipetter_gcode(\"pipetter_output.gcode\")\n"
      ],
      "metadata": {
        "colab": {
          "base_uri": "https://localhost:8080/"
        },
        "id": "3KUgYpOGGXjs",
        "outputId": "242611f2-7904-4bc1-df6b-bd4deab24a74"
      },
      "execution_count": 1,
      "outputs": [
        {
          "output_type": "stream",
          "name": "stdout",
          "text": [
            "G-code written to pipetter_output.gcode in current Colab directory.\n"
          ]
        }
      ]
    }
  ]
}